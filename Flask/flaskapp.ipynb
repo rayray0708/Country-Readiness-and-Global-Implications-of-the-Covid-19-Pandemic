{
 "cells": [
  {
   "cell_type": "code",
   "execution_count": 1,
   "id": "d1e09094-1cc3-4ec6-9cfa-21ed6efe80a7",
   "metadata": {},
   "outputs": [],
   "source": [
    "from flask import Flask, jsonify\n",
    "from sqlalchemy import create_engine\n",
    "from sqlalchemy.orm import Session\n",
    "from sqlalchemy.ext.automap import automap_base"
   ]
  },
  {
   "cell_type": "code",
   "execution_count": 2,
   "id": "0164b4f4-095f-41ba-9bfc-b6382c815936",
   "metadata": {},
   "outputs": [
    {
     "data": {
      "text/plain": [
       "['country_data']"
      ]
     },
     "execution_count": 2,
     "metadata": {},
     "output_type": "execute_result"
    }
   ],
   "source": [
    "engine = create_engine(f\"sqlite:///../database/output/countiesdata.sqlite\")\n",
    "# Create a session to work with the database\n",
    "session = Session(bind=engine)\n",
    "# reflect an existing database into a new model\n",
    "Base = automap_base()\n",
    "\n",
    "# reflect the tables\n",
    "Base.prepare(autoload_with=engine)\n",
    "\n",
    "# View all of the classes that automap found\n",
    "Base.classes.keys()"
   ]
  },
  {
   "cell_type": "code",
   "execution_count": null,
   "id": "9de2b6c0-f528-4cb5-899e-baf37b3f02e2",
   "metadata": {},
   "outputs": [],
   "source": [
    "# Save references to each table\n",
    "CountryData = Base.classes.country_data"
   ]
  },
  {
   "cell_type": "code",
   "execution_count": null,
   "id": "efc3d453-88ef-444f-8de5-f60aea1607b9",
   "metadata": {},
   "outputs": [],
   "source": [
    "country_name=\"Afghanistan\"\n",
    "# Query the database to retrieve country data based on the provided country_name\n",
    "country_data = session.query(CountryData).filter_by(country_name=country_name).first()"
   ]
  },
  {
   "cell_type": "code",
   "execution_count": null,
   "id": "ec30688a-0199-417b-89c7-36a431c79c8b",
   "metadata": {},
   "outputs": [],
   "source": [
    "# Convert the data to a dictionary for easy JSON serialization\n",
    "country_data_dict = {\n",
    "    \"country_name\": country_data.country_name,\n",
    "    \"total_confirmed_cases\": country_data.total_confirmed_cases,\n",
    "    \"newly_confirmed_cases\": country_data.newly_confirmed_cases,\n",
    "    \"total_deaths\": country_data.total_deaths,\n",
    "    \"new_deaths\": country_data.new_deaths,\n",
    "    \"total_recovered_cases\": country_data.total_recovered_cases,\n",
    "    \"newly_recovered_cases\": country_data.newly_recovered_cases,\n",
    "    \"iso_code\": country_data.iso_code,\n",
    "    \"lat\": country_data.lat,\n",
    "    \"lon\": country_data.lon\n",
    "}"
   ]
  },
  {
   "cell_type": "code",
   "execution_count": null,
   "id": "89fc2688-c78e-49b8-865e-4d1ad93c9854",
   "metadata": {},
   "outputs": [],
   "source": [
    "country_data_dict"
   ]
  },
  {
   "cell_type": "code",
   "execution_count": null,
   "id": "9a9afe62-166b-487d-ae92-d461ead3d8a6",
   "metadata": {},
   "outputs": [],
   "source": [
    "all_countries = session.query(CountryData.country_name).distinct().all()"
   ]
  },
  {
   "cell_type": "code",
   "execution_count": null,
   "id": "b7869ffb-9e20-47fd-b552-652500780c7d",
   "metadata": {},
   "outputs": [],
   "source": [
    "allcountries = [row.country_name for row in all_countries]"
   ]
  },
  {
   "cell_type": "code",
   "execution_count": null,
   "id": "a47420e0-d9ef-449a-8f22-ecfc08289ae3",
   "metadata": {},
   "outputs": [],
   "source": [
    "allcountries"
   ]
  },
  {
   "cell_type": "code",
   "execution_count": null,
   "id": "b86f614c-be2e-499c-a339-fd6b6ed89630",
   "metadata": {},
   "outputs": [],
   "source": []
  }
 ],
 "metadata": {
  "kernelspec": {
   "display_name": "Python 3 (ipykernel)",
   "language": "python",
   "name": "python3"
  },
  "language_info": {
   "codemirror_mode": {
    "name": "ipython",
    "version": 3
   },
   "file_extension": ".py",
   "mimetype": "text/x-python",
   "name": "python",
   "nbconvert_exporter": "python",
   "pygments_lexer": "ipython3",
   "version": "3.11.3"
  }
 },
 "nbformat": 4,
 "nbformat_minor": 5
}
