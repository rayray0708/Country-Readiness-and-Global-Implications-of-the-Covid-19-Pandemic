{
 "cells": [
  {
   "cell_type": "code",
   "execution_count": null,
   "id": "32ae9e4f-5749-4aed-89b5-a7caff1b38a9",
   "metadata": {},
   "outputs": [],
   "source": [
    "import pandas as pd\n",
    "import sqlalchemy\n",
    "from sqlalchemy import inspect\n",
    "from sqlalchemy.orm import Session\n",
    "from sqlalchemy import create_engine\n",
    "from sqlalchemy.ext.declarative import declarative_base\n",
    "from sqlalchemy import Column, Integer, String, Float"
   ]
  },
  {
   "cell_type": "code",
   "execution_count": null,
   "id": "959ee68b-0a83-4188-a320-4b300b5a96ed",
   "metadata": {},
   "outputs": [],
   "source": [
    "Base = declarative_base()"
   ]
  },
  {
   "cell_type": "code",
   "execution_count": null,
   "id": "d4c9eca7-0257-495e-837d-eaf288498ef2",
   "metadata": {},
   "outputs": [],
   "source": [
    "# Load data from \"maindata.csv\" into a DataFrame\n",
    "maindata_df = pd.read_csv(\"Resource/maindata.csv\")"
   ]
  },
  {
   "cell_type": "code",
   "execution_count": null,
   "id": "60267c97-a903-456d-9713-ef650fb011eb",
   "metadata": {},
   "outputs": [],
   "source": [
    "maindata_df"
   ]
  },
  {
   "cell_type": "code",
   "execution_count": null,
   "id": "58c0577e-9b55-4077-be12-c2039334ec1a",
   "metadata": {},
   "outputs": [],
   "source": [
    "# Create an SQLite database engine for the current country\n",
    "engine = create_engine(f\"sqlite:///output/countiesdata.sqlite\")\n",
    "conn = engine.connect()\n",
    "Base.metadata.create_all(engine) \n",
    "session = Session(bind=engine)"
   ]
  },
  {
   "cell_type": "code",
   "execution_count": null,
   "id": "b95947ca-5ad4-47e0-8ea5-47d6edffa95d",
   "metadata": {},
   "outputs": [],
   "source": [
    "# Define the class for the country data\n",
    "class CountryData(Base):\n",
    "    __tablename__ = 'country_data'\n",
    "    id = Column(Integer, primary_key=True)\n",
    "    country_name = Column(String(255))\n",
    "    total_confirmed_cases = Column(Integer)\n",
    "    newly_confirmed_cases = Column(Integer)\n",
    "    total_deaths = Column(Integer)\n",
    "    new_deaths = Column(Integer)\n",
    "    total_recovered_cases = Column(Integer)\n",
    "    newly_recovered_cases = Column(Integer)\n",
    "    iso_code = Column(String(10))\n",
    "    lat = Column(Float)\n",
    "    lon = Column(Float)"
   ]
  },
  {
   "cell_type": "code",
   "execution_count": null,
   "id": "133f76b0-f03a-4c65-8c41-d7d02ea57f4c",
   "metadata": {},
   "outputs": [],
   "source": [
    "# Iterate through the rows in the DataFrame\n",
    "for index, row in maindata_df.iterrows():\n",
    "    country = row['Country/Region']\n",
    "\n",
    "    # Create a new instance of the CountryData class\n",
    "    country_data_instance = CountryData(\n",
    "        country_name=country,\n",
    "        total_confirmed_cases=row['Total Confirmed Cases'],\n",
    "        newly_confirmed_cases=row['Newly Confirmed Cases'],\n",
    "        total_deaths=row['Total Deaths'],\n",
    "        new_deaths=row['New Deaths'],\n",
    "        total_recovered_cases=row['Total Recovered Cases'],\n",
    "        newly_recovered_cases=row['Newly Recovered Cases'],\n",
    "        iso_code=row['ISO Code'],\n",
    "        lat=row['Lat'],\n",
    "        lon=row['Lon']\n",
    "    )\n",
    "\n",
    "    # Add the instance to the main database session\n",
    "    session.add(country_data_instance)"
   ]
  },
  {
   "cell_type": "code",
   "execution_count": null,
   "id": "6e56f901-6711-4c3d-b08f-e2a85c029f15",
   "metadata": {},
   "outputs": [],
   "source": [
    "# Commit the changes to the main database\n",
    "session.commit()"
   ]
  },
  {
   "cell_type": "code",
   "execution_count": null,
   "id": "5e036a88-f050-41a8-82da-ebdb31de37df",
   "metadata": {},
   "outputs": [],
   "source": [
    "# Create the inspector and connect it to the engine\n",
    "inspector = inspect(engine)\n",
    "# Collect the names of tables within the database\n",
    "inspector.get_table_names()"
   ]
  },
  {
   "cell_type": "code",
   "execution_count": null,
   "id": "06747461-4db9-4174-8078-e2e6c4175bb2",
   "metadata": {},
   "outputs": [],
   "source": [
    "# Close the session\n",
    "session.close()"
   ]
  },
  {
   "cell_type": "code",
   "execution_count": null,
   "id": "ee391361-c726-4888-9c47-2671d0decafd",
   "metadata": {},
   "outputs": [],
   "source": []
  }
 ],
 "metadata": {
  "kernelspec": {
   "display_name": "Python 3 (ipykernel)",
   "language": "python",
   "name": "python3"
  },
  "language_info": {
   "codemirror_mode": {
    "name": "ipython",
    "version": 3
   },
   "file_extension": ".py",
   "mimetype": "text/x-python",
   "name": "python",
   "nbconvert_exporter": "python",
   "pygments_lexer": "ipython3",
   "version": "3.11.3"
  }
 },
 "nbformat": 4,
 "nbformat_minor": 5
}
